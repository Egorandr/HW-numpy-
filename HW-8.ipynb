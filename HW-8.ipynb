{
 "cells": [
  {
   "cell_type": "code",
   "execution_count": 3,
   "id": "adda3cd3",
   "metadata": {},
   "outputs": [],
   "source": [
    "import numpy as np\n"
   ]
  },
  {
   "cell_type": "code",
   "execution_count": 4,
   "id": "bd23b9c1",
   "metadata": {},
   "outputs": [],
   "source": [
    "# 1.Загрузите датасет с помощью функции np.genfromtxt()"
   ]
  },
  {
   "cell_type": "code",
   "execution_count": 5,
   "id": "23268c7d",
   "metadata": {},
   "outputs": [],
   "source": [
    "url = 'https://archive.ics.uci.edu/ml/machine-learning-databases/iris/iris.data'\n",
    "iris = np.genfromtxt(url, delimiter=',', dtype='object')"
   ]
  },
  {
   "cell_type": "code",
   "execution_count": 56,
   "id": "583d349c",
   "metadata": {},
   "outputs": [
    {
     "data": {
      "text/plain": [
       "array([[b'5.1', b'3.5', b'1.4', b'0.2', b'Iris-setosa'],\n",
       "       [b'4.9', b'3.0', b'1.4', b'0.2', b'Iris-setosa'],\n",
       "       [b'4.7', b'3.2', b'1.3', b'0.2', b'Iris-setosa'],\n",
       "       [b'4.6', b'3.1', b'1.5', b'0.2', b'Iris-setosa'],\n",
       "       [b'5.0', b'3.6', b'1.4', b'0.2', b'Iris-setosa']], dtype=object)"
      ]
     },
     "execution_count": 56,
     "metadata": {},
     "output_type": "execute_result"
    }
   ],
   "source": [
    "iris[:5]"
   ]
  },
  {
   "cell_type": "code",
   "execution_count": 7,
   "id": "5833e69a",
   "metadata": {
    "scrolled": true
   },
   "outputs": [
    {
     "data": {
      "text/plain": [
       "(150, 5)"
      ]
     },
     "execution_count": 7,
     "metadata": {},
     "output_type": "execute_result"
    }
   ],
   "source": [
    "iris.shape"
   ]
  },
  {
   "cell_type": "code",
   "execution_count": 8,
   "id": "92985fa4",
   "metadata": {},
   "outputs": [],
   "source": [
    "# 2.Вычислите простейшие статистики: min, max, median, mean, 0,25-percentile, 0,75-percentile\n",
    "#- для каждого из числовых атрибутов в датасете(через цикл)"
   ]
  },
  {
   "cell_type": "code",
   "execution_count": 19,
   "id": "60996786",
   "metadata": {},
   "outputs": [],
   "source": [
    "data = np.genfromtxt(url, delimiter=',', dtype='float')\n",
    "atr_1 = data[:,[0]]\n",
    "atr_2 = data[:,[1]]\n",
    "atr_3 = data[:,[2]]\n",
    "atr_4 = data[:,[3]]\n",
    "atr_5 = np.genfromtxt(url, delimiter=',', dtype='str', usecols=[4])"
   ]
  },
  {
   "cell_type": "code",
   "execution_count": 36,
   "id": "3888a5b2",
   "metadata": {},
   "outputs": [],
   "source": [
    "massiv = [atr_1, atr_2, atr_3, atr_4]\n",
    "a = np.array(massiv)"
   ]
  },
  {
   "cell_type": "code",
   "execution_count": null,
   "id": "ce274644",
   "metadata": {},
   "outputs": [],
   "source": [
    "#Что-то похожее на данный пример\n",
    "#for i in range(4):\n",
    "   # print(f'Гистограмма для атрибута {i}')\n",
    "#Через f можно передать параметр"
   ]
  },
  {
   "cell_type": "code",
   "execution_count": 55,
   "id": "12851e7e",
   "metadata": {},
   "outputs": [
    {
     "name": "stdout",
     "output_type": "stream",
     "text": [
      "\n",
      "Простейшие статистики для атрибутов\n",
      "Максимум = 7.9\n",
      "Минимум = 4.3\n",
      "Медиана для = 5.8\n",
      "Персентиль 0,25= 5.1\n",
      "Персентиль 0,75 = 6.4\n",
      "\n",
      "Простейшие статистики для атрибутов\n",
      "Максимум = 4.4\n",
      "Минимум = 2.0\n",
      "Медиана для = 3.0\n",
      "Персентиль 0,25= 2.8\n",
      "Персентиль 0,75 = 3.3\n",
      "\n",
      "Простейшие статистики для атрибутов\n",
      "Максимум = 6.9\n",
      "Минимум = 1.0\n",
      "Медиана для = 4.35\n",
      "Персентиль 0,25= 1.6\n",
      "Персентиль 0,75 = 5.1\n",
      "\n",
      "Простейшие статистики для атрибутов\n",
      "Максимум = 2.5\n",
      "Минимум = 0.1\n",
      "Медиана для = 1.3\n",
      "Персентиль 0,25= 0.3\n",
      "Персентиль 0,75 = 1.8\n"
     ]
    }
   ],
   "source": [
    "for val in a:\n",
    "    print('\\nПростейшие статистики для атрибутов')\n",
    "    print('Максимум =',np.max(val))\n",
    "    print('Минимум =',np.min(val))\n",
    "    print('Медиана для =', np.median(val))\n",
    "    print('Персентиль 0,25=',np.percentile(val, 25))\n",
    "    print('Персентиль 0,75 =',np.percentile(val, 75))  "
   ]
  },
  {
   "cell_type": "code",
   "execution_count": null,
   "id": "2566252c",
   "metadata": {},
   "outputs": [],
   "source": [
    "# 3. Постройте гистограмму для каждого из числовых атрибутов в датасете"
   ]
  },
  {
   "cell_type": "code",
   "execution_count": 25,
   "id": "1215c6a7",
   "metadata": {},
   "outputs": [],
   "source": [
    "import matplotlib.pyplot as plt"
   ]
  },
  {
   "cell_type": "code",
   "execution_count": null,
   "id": "7e750550",
   "metadata": {},
   "outputs": [],
   "source": [
    "for val in a:"
   ]
  },
  {
   "cell_type": "code",
   "execution_count": 46,
   "id": "6326c137",
   "metadata": {},
   "outputs": [
    {
     "data": {
      "image/png": "[encoded data removed]",
      "text/plain": [
       "<Figure size 432x288 with 1 Axes>"
      ]
     },
     "metadata": {
      "needs_background": "light"
     },
     "output_type": "display_data"
    },
    {
     "data": {
      "image/png": "[encoded data removed]",
      "text/plain": [
       "<Figure size 432x288 with 1 Axes>"
      ]
     },
     "metadata": {
      "needs_background": "light"
     },
     "output_type": "display_data"
    },
    {
     "data": {
      "image/png": "[encoded data removed]",
      "text/plain": [
       "<Figure size 432x288 with 1 Axes>"
      ]
     },
     "metadata": {
      "needs_background": "light"
     },
     "output_type": "display_data"
    },
    {
     "data": {
      "image/png": "[encoded data removed]",
      "text/plain": [
       "<Figure size 432x288 with 1 Axes>"
      ]
     },
     "metadata": {
      "needs_background": "light"
     },
     "output_type": "display_data"
    }
   ],
   "source": [
    "for val in a:\n",
    "    plt.hist(val)\n",
    "    plt.title('')\n",
    "    plt.show()"
   ]
  },
  {
   "cell_type": "code",
   "execution_count": null,
   "id": "c6c400cd",
   "metadata": {},
   "outputs": [],
   "source": [
    "# 4. Сгруппируйте датасет по категории (последний столбец датасета) и повторите\n",
    "#шаги 2 и 3 для групп."
   ]
  },
  {
   "cell_type": "code",
   "execution_count": 57,
   "id": "9fe2533b",
   "metadata": {
    "scrolled": true
   },
   "outputs": [
    {
     "data": {
      "text/plain": [
       "array(['Iris-setosa', 'Iris-setosa', 'Iris-setosa', 'Iris-setosa',\n",
       "       'Iris-setosa', 'Iris-setosa', 'Iris-setosa', 'Iris-setosa',\n",
       "       'Iris-setosa', 'Iris-setosa', 'Iris-setosa', 'Iris-setosa',\n",
       "       'Iris-setosa', 'Iris-setosa', 'Iris-setosa', 'Iris-setosa',\n",
       "       'Iris-setosa', 'Iris-setosa', 'Iris-setosa', 'Iris-setosa',\n",
       "       'Iris-setosa', 'Iris-setosa', 'Iris-setosa', 'Iris-setosa',\n",
       "       'Iris-setosa', 'Iris-setosa', 'Iris-setosa', 'Iris-setosa',\n",
       "       'Iris-setosa', 'Iris-setosa', 'Iris-setosa', 'Iris-setosa',\n",
       "       'Iris-setosa', 'Iris-setosa', 'Iris-setosa', 'Iris-setosa',\n",
       "       'Iris-setosa', 'Iris-setosa', 'Iris-setosa', 'Iris-setosa',\n",
       "       'Iris-setosa', 'Iris-setosa', 'Iris-setosa', 'Iris-setosa',\n",
       "       'Iris-setosa', 'Iris-setosa', 'Iris-setosa', 'Iris-setosa',\n",
       "       'Iris-setosa', 'Iris-setosa', 'Iris-versicolor', 'Iris-versicolor',\n",
       "       'Iris-versicolor', 'Iris-versicolor', 'Iris-versicolor',\n",
       "       'Iris-versicolor', 'Iris-versicolor', 'Iris-versicolor',\n",
       "       'Iris-versicolor', 'Iris-versicolor', 'Iris-versicolor',\n",
       "       'Iris-versicolor', 'Iris-versicolor', 'Iris-versicolor',\n",
       "       'Iris-versicolor', 'Iris-versicolor', 'Iris-versicolor',\n",
       "       'Iris-versicolor', 'Iris-versicolor', 'Iris-versicolor',\n",
       "       'Iris-versicolor', 'Iris-versicolor', 'Iris-versicolor',\n",
       "       'Iris-versicolor', 'Iris-versicolor', 'Iris-versicolor',\n",
       "       'Iris-versicolor', 'Iris-versicolor', 'Iris-versicolor',\n",
       "       'Iris-versicolor', 'Iris-versicolor', 'Iris-versicolor',\n",
       "       'Iris-versicolor', 'Iris-versicolor', 'Iris-versicolor',\n",
       "       'Iris-versicolor', 'Iris-versicolor', 'Iris-versicolor',\n",
       "       'Iris-versicolor', 'Iris-versicolor', 'Iris-versicolor',\n",
       "       'Iris-versicolor', 'Iris-versicolor', 'Iris-versicolor',\n",
       "       'Iris-versicolor', 'Iris-versicolor', 'Iris-versicolor',\n",
       "       'Iris-versicolor', 'Iris-versicolor', 'Iris-versicolor',\n",
       "       'Iris-virginica', 'Iris-virginica', 'Iris-virginica',\n",
       "       'Iris-virginica', 'Iris-virginica', 'Iris-virginica',\n",
       "       'Iris-virginica', 'Iris-virginica', 'Iris-virginica',\n",
       "       'Iris-virginica', 'Iris-virginica', 'Iris-virginica',\n",
       "       'Iris-virginica', 'Iris-virginica', 'Iris-virginica',\n",
       "       'Iris-virginica', 'Iris-virginica', 'Iris-virginica',\n",
       "       'Iris-virginica', 'Iris-virginica', 'Iris-virginica',\n",
       "       'Iris-virginica', 'Iris-virginica', 'Iris-virginica',\n",
       "       'Iris-virginica', 'Iris-virginica', 'Iris-virginica',\n",
       "       'Iris-virginica', 'Iris-virginica', 'Iris-virginica',\n",
       "       'Iris-virginica', 'Iris-virginica', 'Iris-virginica',\n",
       "       'Iris-virginica', 'Iris-virginica', 'Iris-virginica',\n",
       "       'Iris-virginica', 'Iris-virginica', 'Iris-virginica',\n",
       "       'Iris-virginica', 'Iris-virginica', 'Iris-virginica',\n",
       "       'Iris-virginica', 'Iris-virginica', 'Iris-virginica',\n",
       "       'Iris-virginica', 'Iris-virginica', 'Iris-virginica',\n",
       "       'Iris-virginica', 'Iris-virginica'], dtype='<U15')"
      ]
     },
     "execution_count": 57,
     "metadata": {},
     "output_type": "execute_result"
    }
   ],
   "source": [
    "atr_5"
   ]
  },
  {
   "cell_type": "code",
   "execution_count": 59,
   "id": "01c13a2f",
   "metadata": {},
   "outputs": [
    {
     "data": {
      "text/plain": [
       "array(['Iris-setosa', 'Iris-versicolor', 'Iris-virginica'], dtype='<U15')"
      ]
     },
     "execution_count": 59,
     "metadata": {},
     "output_type": "execute_result"
    }
   ],
   "source": [
    "np.unique(atr_5)"
   ]
  },
  {
   "cell_type": "code",
   "execution_count": 61,
   "id": "a7a5bde9",
   "metadata": {},
   "outputs": [
    {
     "data": {
      "text/plain": [
       "[5.006, 5.936, 6.587999999999998]"
      ]
     },
     "execution_count": 61,
     "metadata": {},
     "output_type": "execute_result"
    }
   ],
   "source": [
    "new_1 = []\n",
    "for group_val in np.unique(atr_5):\n",
    "       new_1.append(atr_1[atr_5==group_val].mean())\n",
    "new_1"
   ]
  },
  {
   "cell_type": "code",
   "execution_count": 64,
   "id": "60d48382",
   "metadata": {},
   "outputs": [
    {
     "data": {
      "text/plain": [
       "[3.418, 2.7700000000000005, 2.974]"
      ]
     },
     "execution_count": 64,
     "metadata": {},
     "output_type": "execute_result"
    }
   ],
   "source": [
    "new_2 = []\n",
    "for group_val in np.unique(atr_5):\n",
    "       new_2.append(atr_2[atr_5==group_val].mean())\n",
    "new_2"
   ]
  },
  {
   "cell_type": "code",
   "execution_count": 69,
   "id": "f65506ec",
   "metadata": {},
   "outputs": [
    {
     "data": {
      "text/plain": [
       "[1.464, 4.26, 5.5520000000000005]"
      ]
     },
     "execution_count": 69,
     "metadata": {},
     "output_type": "execute_result"
    }
   ],
   "source": [
    "new_3 = []\n",
    "for group_val in np.unique(atr_5):\n",
    "       new_3.append(atr_3[atr_5==group_val].mean())\n",
    "new_3"
   ]
  },
  {
   "cell_type": "code",
   "execution_count": 70,
   "id": "d2418bbd",
   "metadata": {},
   "outputs": [
    {
     "data": {
      "text/plain": [
       "[0.244, 1.3259999999999998, 2.0260000000000002]"
      ]
     },
     "execution_count": 70,
     "metadata": {},
     "output_type": "execute_result"
    }
   ],
   "source": [
    "new_4 = []\n",
    "for group_val in np.unique(atr_5):\n",
    "       new_4.append(atr_4[atr_5==group_val].mean())\n",
    "new_4"
   ]
  },
  {
   "cell_type": "code",
   "execution_count": 78,
   "id": "d5fa4508",
   "metadata": {},
   "outputs": [],
   "source": [
    "massiv = [new_1, new_2, new_3, new_4]\n",
    "b = np.arrey=(massiv)"
   ]
  },
  {
   "cell_type": "code",
   "execution_count": 80,
   "id": "820bda0d",
   "metadata": {},
   "outputs": [
    {
     "data": {
      "image/png": "[encoded data removed]",
      "text/plain": [
       "<Figure size 432x288 with 1 Axes>"
      ]
     },
     "metadata": {
      "needs_background": "light"
     },
     "output_type": "display_data"
    },
    {
     "name": "stdout",
     "output_type": "stream",
     "text": [
      "\n",
      "Простейшие статистики для атрибутов\n",
      "Максимум = 6.587999999999998\n",
      "Минимум = 5.006\n",
      "Медиана для = 5.936\n",
      "Персентиль 0,25= 5.471\n",
      "Персентиль 0,75 = 6.261999999999999\n"
     ]
    },
    {
     "data": {
      "image/png": "[encoded data removed]",
      "text/plain": [
       "<Figure size 432x288 with 1 Axes>"
      ]
     },
     "metadata": {
      "needs_background": "light"
     },
     "output_type": "display_data"
    },
    {
     "name": "stdout",
     "output_type": "stream",
     "text": [
      "\n",
      "Простейшие статистики для атрибутов\n",
      "Максимум = 5.5520000000000005\n",
      "Минимум = 0.244\n",
      "Медиана для = 2.7700000000000005\n",
      "Персентиль 0,25= 1.464\n",
      "Персентиль 0,75 = 3.418\n"
     ]
    },
    {
     "data": {
      "image/png": "[encoded data removed]",
      "text/plain": [
       "<Figure size 432x288 with 1 Axes>"
      ]
     },
     "metadata": {
      "needs_background": "light"
     },
     "output_type": "display_data"
    },
    {
     "name": "stdout",
     "output_type": "stream",
     "text": [
      "\n",
      "Простейшие статистики для атрибутов\n",
      "Максимум = 5.5520000000000005\n",
      "Минимум = 1.464\n",
      "Медиана для = 4.26\n",
      "Персентиль 0,25= 2.862\n",
      "Персентиль 0,75 = 4.906000000000001\n"
     ]
    },
    {
     "data": {
      "image/png": "[encoded data removed]",
      "text/plain": [
       "<Figure size 432x288 with 1 Axes>"
      ]
     },
     "metadata": {
      "needs_background": "light"
     },
     "output_type": "display_data"
    },
    {
     "name": "stdout",
     "output_type": "stream",
     "text": [
      "\n",
      "Простейшие статистики для атрибутов\n",
      "Максимум = 2.0260000000000002\n",
      "Минимум = 0.244\n",
      "Медиана для = 1.3259999999999998\n",
      "Персентиль 0,25= 0.7849999999999999\n",
      "Персентиль 0,75 = 1.6760000000000002\n"
     ]
    }
   ],
   "source": [
    "for val in b:\n",
    "    plt.hist(val)\n",
    "    plt.title('')\n",
    "    plt.show()\n",
    "    print('\\nПростейшие статистики для атрибутов')\n",
    "    print('Максимум =',np.max(val))\n",
    "    print('Минимум =',np.min(val))\n",
    "    print('Медиана для =', np.median(val))\n",
    "    print('Персентиль 0,25=',np.percentile(val, 25))\n",
    "    print('Персентиль 0,75 =',np.percentile(val, 75)) "
   ]
  },
  {
   "cell_type": "code",
   "execution_count": null,
   "id": "b052ea33",
   "metadata": {},
   "outputs": [],
   "source": []
  }
 ],
 "metadata": {
  "kernelspec": {
   "display_name": "Python 3",
   "language": "python",
   "name": "python3"
  },
  "language_info": {
   "codemirror_mode": {
    "name": "ipython",
    "version": 3
   },
   "file_extension": ".py",
   "mimetype": "text/x-python",
   "name": "python",
   "nbconvert_exporter": "python",
   "pygments_lexer": "ipython3",
   "version": "3.8.8"
  }
 },
 "nbformat": 4,
 "nbformat_minor": 5
}
