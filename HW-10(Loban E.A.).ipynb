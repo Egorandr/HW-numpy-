{
 "cells": [
  {
   "cell_type": "markdown",
   "id": "8598f16b",
   "metadata": {},
   "source": [
    "Задача:Команда ux-дизайнеров работает над улучшением рекламного объявления.\n",
    "Текущая конверсия составляет в среднем в течении года 30%, но будет отлично, если данный коэффициент повысится до 40.\n",
    "То есть новый дизайн объявления будет успешным, если оно повысит коэф-т конверсии до 40%.\n"
   ]
  },
  {
   "cell_type": "markdown",
   "id": "cb0993d4",
   "metadata": {},
   "source": [
    "Гипотеза: \n",
    "    1. Принимаем за Н0, что коэф. конверсии старого и нового образца равны между собой, - p(a)=p(b) \n",
    "    2. Если Н0 не верна то обращаемся к альтернативной гипотезе Н1, - p(a) ≠ p(b)\n",
    "    3. Гипотезу Н0 отвергаем при пороге α=0,05 (уровень доверия 95%)"
   ]
  },
  {
   "cell_type": "markdown",
   "id": "976bb7b0",
   "metadata": {},
   "source": [
    "Представленные данные:\n",
    "    - А/В - старый и новый вариант обьявления (контрольная и тестовая группа)\n",
    "    - 0/1 - наличие или отсутствие отклика (бинарные данные)"
   ]
  },
  {
   "cell_type": "code",
   "execution_count": 15,
   "id": "5d36b34e",
   "metadata": {},
   "outputs": [],
   "source": [
    "import pandas as pd"
   ]
  },
  {
   "cell_type": "code",
   "execution_count": 16,
   "id": "84ad1096",
   "metadata": {},
   "outputs": [
    {
     "data": {
      "text/html": [
       "<div>\n",
       "<style scoped>\n",
       "    .dataframe tbody tr th:only-of-type {\n",
       "        vertical-align: middle;\n",
       "    }\n",
       "\n",
       "    .dataframe tbody tr th {\n",
       "        vertical-align: top;\n",
       "    }\n",
       "\n",
       "    .dataframe thead th {\n",
       "        text-align: right;\n",
       "    }\n",
       "</style>\n",
       "<table border=\"1\" class=\"dataframe\">\n",
       "  <thead>\n",
       "    <tr style=\"text-align: right;\">\n",
       "      <th></th>\n",
       "      <th>ad_id</th>\n",
       "      <th>action</th>\n",
       "    </tr>\n",
       "  </thead>\n",
       "  <tbody>\n",
       "    <tr>\n",
       "      <th>0</th>\n",
       "      <td>B</td>\n",
       "      <td>1</td>\n",
       "    </tr>\n",
       "    <tr>\n",
       "      <th>1</th>\n",
       "      <td>B</td>\n",
       "      <td>1</td>\n",
       "    </tr>\n",
       "    <tr>\n",
       "      <th>2</th>\n",
       "      <td>A</td>\n",
       "      <td>0</td>\n",
       "    </tr>\n",
       "    <tr>\n",
       "      <th>3</th>\n",
       "      <td>B</td>\n",
       "      <td>0</td>\n",
       "    </tr>\n",
       "    <tr>\n",
       "      <th>4</th>\n",
       "      <td>A</td>\n",
       "      <td>1</td>\n",
       "    </tr>\n",
       "  </tbody>\n",
       "</table>\n",
       "</div>"
      ],
      "text/plain": [
       "  ad_id  action\n",
       "0     B       1\n",
       "1     B       1\n",
       "2     A       0\n",
       "3     B       0\n",
       "4     A       1"
      ]
     },
     "execution_count": 16,
     "metadata": {},
     "output_type": "execute_result"
    }
   ],
   "source": [
    "df=pd.read_csv('ad.csv')\n",
    "df.head()"
   ]
  },
  {
   "cell_type": "markdown",
   "id": "7add6117",
   "metadata": {},
   "source": [
    "Для предварительного анализа необходимо отобразить в сводной таблице:\n",
    "    - уровень конверсии\n",
    "    - стандартное отклонение\n",
    "    - стандартную ошибку"
   ]
  },
  {
   "cell_type": "code",
   "execution_count": 17,
   "id": "7e40033e",
   "metadata": {},
   "outputs": [],
   "source": [
    "import numpy as np"
   ]
  },
  {
   "cell_type": "code",
   "execution_count": 18,
   "id": "eeafcbed",
   "metadata": {},
   "outputs": [],
   "source": [
    "summary=pd.crosstab(df.ad_id, df.action, margins=True, margins_name='Total')\n",
    "summary['conv_p']=df.pivot_table(values='action', index='ad_id')"
   ]
  },
  {
   "cell_type": "code",
   "execution_count": 19,
   "id": "f49f464b",
   "metadata": {},
   "outputs": [],
   "source": [
    "summary['std_p']=df.pivot_table(values='action', index='ad_id', aggfunc = lambda x: np.std(x, ddof=0)). round(2)"
   ]
  },
  {
   "cell_type": "code",
   "execution_count": 20,
   "id": "99f908ad",
   "metadata": {},
   "outputs": [],
   "source": [
    "import scipy.stats as stats"
   ]
  },
  {
   "cell_type": "code",
   "execution_count": 21,
   "id": "b58cc3fd",
   "metadata": {},
   "outputs": [
    {
     "data": {
      "text/html": [
       "<div>\n",
       "<style scoped>\n",
       "    .dataframe tbody tr th:only-of-type {\n",
       "        vertical-align: middle;\n",
       "    }\n",
       "\n",
       "    .dataframe tbody tr th {\n",
       "        vertical-align: top;\n",
       "    }\n",
       "\n",
       "    .dataframe thead th {\n",
       "        text-align: right;\n",
       "    }\n",
       "</style>\n",
       "<table border=\"1\" class=\"dataframe\">\n",
       "  <thead>\n",
       "    <tr style=\"text-align: right;\">\n",
       "      <th>action</th>\n",
       "      <th>0</th>\n",
       "      <th>1</th>\n",
       "      <th>Total</th>\n",
       "      <th>conv_p</th>\n",
       "      <th>std_p</th>\n",
       "      <th>se_p</th>\n",
       "    </tr>\n",
       "    <tr>\n",
       "      <th>ad_id</th>\n",
       "      <th></th>\n",
       "      <th></th>\n",
       "      <th></th>\n",
       "      <th></th>\n",
       "      <th></th>\n",
       "      <th></th>\n",
       "    </tr>\n",
       "  </thead>\n",
       "  <tbody>\n",
       "    <tr>\n",
       "      <th>A</th>\n",
       "      <td>696</td>\n",
       "      <td>304</td>\n",
       "      <td>1000</td>\n",
       "      <td>0.304</td>\n",
       "      <td>0.46</td>\n",
       "      <td>0.0145</td>\n",
       "    </tr>\n",
       "    <tr>\n",
       "      <th>B</th>\n",
       "      <td>628</td>\n",
       "      <td>372</td>\n",
       "      <td>1000</td>\n",
       "      <td>0.372</td>\n",
       "      <td>0.48</td>\n",
       "      <td>0.0153</td>\n",
       "    </tr>\n",
       "    <tr>\n",
       "      <th>Total</th>\n",
       "      <td>1324</td>\n",
       "      <td>676</td>\n",
       "      <td>2000</td>\n",
       "      <td>NaN</td>\n",
       "      <td>NaN</td>\n",
       "      <td>NaN</td>\n",
       "    </tr>\n",
       "  </tbody>\n",
       "</table>\n",
       "</div>"
      ],
      "text/plain": [
       "action     0    1  Total  conv_p  std_p    se_p\n",
       "ad_id                                          \n",
       "A        696  304   1000   0.304   0.46  0.0145\n",
       "B        628  372   1000   0.372   0.48  0.0153\n",
       "Total   1324  676   2000     NaN    NaN     NaN"
      ]
     },
     "execution_count": 21,
     "metadata": {},
     "output_type": "execute_result"
    }
   ],
   "source": [
    "summary['se_p']=df.pivot_table(values='action', index='ad_id', aggfunc = lambda x: stats.sem(x, ddof=0)).round(4)\n",
    "summary"
   ]
  },
  {
   "cell_type": "markdown",
   "id": "70b9ccb2",
   "metadata": {},
   "source": [
    "Визуализируем полученные результаты "
   ]
  },
  {
   "cell_type": "code",
   "execution_count": 23,
   "id": "7c4d513b",
   "metadata": {},
   "outputs": [],
   "source": [
    "import seaborn as sns\n",
    "import matplotlib.pyplot as plt\n"
   ]
  },
  {
   "cell_type": "code",
   "execution_count": 24,
   "id": "deec1deb",
   "metadata": {},
   "outputs": [
    {
     "data": {
      "text/plain": [
       "Text(0, 0.5, 'Коэф-т конверсии')"
      ]
     },
     "execution_count": 24,
     "metadata": {},
     "output_type": "execute_result"
    },
    {
     "data": {
      "image/png": "[encoded data removed]",
      "text/plain": [
       "<Figure size 576x432 with 1 Axes>"
      ]
     },
     "metadata": {
      "needs_background": "light"
     },
     "output_type": "display_data"
    }
   ],
   "source": [
    "plt.figure(figsize=(8,6))\n",
    "sns.barplot(x=df['ad_id'], y=df['action'])\n",
    "plt.title('Коэф-т конверсии для каждой группы')\n",
    "plt.xlabel('Группа')\n",
    "plt.ylabel('Коэф-т конверсии')"
   ]
  },
  {
   "cell_type": "markdown",
   "id": "e7b75d7c",
   "metadata": {},
   "source": [
    "Исходя из полученных даннный можно предположить, что дизайн \"В\" лучьше чем дизайн \"А\".\n",
    "Для проверки предположения необходимо провести статистическую проверку используя Z -test\n",
    "(известно стандартное отклонение по группам и  N>30 )."
   ]
  },
  {
   "cell_type": "code",
   "execution_count": 29,
   "id": "deaa9abf",
   "metadata": {},
   "outputs": [],
   "source": [
    "import scipy.stats as stats"
   ]
  },
  {
   "cell_type": "code",
   "execution_count": 30,
   "id": "c18fe195",
   "metadata": {},
   "outputs": [],
   "source": [
    "from statsmodels.stats.proportion import proportions_ztest, proportion_confint"
   ]
  },
  {
   "cell_type": "code",
   "execution_count": 25,
   "id": "d1502b76",
   "metadata": {},
   "outputs": [],
   "source": [
    "control_group = df[df['ad_id']=='A']['action']\n",
    "test_group = df[df['ad_id']=='B']['action']"
   ]
  },
  {
   "cell_type": "code",
   "execution_count": 26,
   "id": "8cc2acd1",
   "metadata": {
    "scrolled": true
   },
   "outputs": [
    {
     "data": {
      "text/plain": [
       "[1000, 1000]"
      ]
     },
     "execution_count": 26,
     "metadata": {},
     "output_type": "execute_result"
    }
   ],
   "source": [
    "nobs = [control_group.count(), test_group.count()] \n",
    "nobs"
   ]
  },
  {
   "cell_type": "code",
   "execution_count": 27,
   "id": "8743b959",
   "metadata": {},
   "outputs": [
    {
     "data": {
      "text/plain": [
       "[304, 372]"
      ]
     },
     "execution_count": 27,
     "metadata": {},
     "output_type": "execute_result"
    }
   ],
   "source": [
    "successes = [control_group.sum(), test_group.sum()]\n",
    "successes"
   ]
  },
  {
   "cell_type": "code",
   "execution_count": 31,
   "id": "cefdb521",
   "metadata": {},
   "outputs": [
    {
     "name": "stdout",
     "output_type": "stream",
     "text": [
      "z-statistic: -3.214\n",
      "p-value: 0.001\n"
     ]
    }
   ],
   "source": [
    "z_stat, pval = proportions_ztest(successes, nobs)\n",
    "print('z-statistic:', z_stat.round(3))\n",
    "print('p-value:', pval.round(3))"
   ]
  },
  {
   "cell_type": "code",
   "execution_count": 34,
   "id": "a2db7aa2",
   "metadata": {},
   "outputs": [],
   "source": [
    "alpha=0.05"
   ]
  },
  {
   "cell_type": "code",
   "execution_count": 35,
   "id": "8b074c2b",
   "metadata": {},
   "outputs": [
    {
     "name": "stdout",
     "output_type": "stream",
     "text": [
      "True\n"
     ]
    }
   ],
   "source": [
    "print(pval<alpha)"
   ]
  },
  {
   "cell_type": "markdown",
   "id": "b1a1b2f4",
   "metadata": {},
   "source": [
    "По резултатам Z теста отклоняем Н0 и принимаем альтернативную.\n",
    "Эфективность нового дизайна выше чем старого.\n",
    "Для определения возможного уровня повышения конверсии при использовании дизайна \"В\" расчитаем доверительные интервалы для каждой из групп."
   ]
  },
  {
   "cell_type": "code",
   "execution_count": 38,
   "id": "17f066ca",
   "metadata": {},
   "outputs": [
    {
     "name": "stdout",
     "output_type": "stream",
     "text": [
      "Доверительный интервал для контрольной группы А: 0.2754905064387712  -  0.3325094935612288\n",
      "Доверительный интервал для тестовой группы В: 0.3420429266473629  -  0.4019570733526371\n"
     ]
    }
   ],
   "source": [
    "(lower_con, lower_test), (upper_con, upper_test) = proportion_confint(successes, nobs = nobs, alpha = 0.05)\n",
    "print('Доверительный интервал для контрольной группы А:', lower_con, ' - ', upper_con)\n",
    "print('Доверительный интервал для тестовой группы В:', lower_test, ' - ', upper_test)"
   ]
  },
  {
   "cell_type": "markdown",
   "id": "26514b00",
   "metadata": {},
   "source": [
    "Вывод: Новый дизайн объявления можно признать успешным, так как он повышает коэф-т конверсии до 40%"
   ]
  },
  {
   "cell_type": "code",
   "execution_count": null,
   "id": "1a897168",
   "metadata": {},
   "outputs": [],
   "source": []
  }
 ],
 "metadata": {
  "kernelspec": {
   "display_name": "Python 3",
   "language": "python",
   "name": "python3"
  },
  "language_info": {
   "codemirror_mode": {
    "name": "ipython",
    "version": 3
   },
   "file_extension": ".py",
   "mimetype": "text/x-python",
   "name": "python",
   "nbconvert_exporter": "python",
   "pygments_lexer": "ipython3",
   "version": "3.8.8"
  }
 },
 "nbformat": 4,
 "nbformat_minor": 5
}
